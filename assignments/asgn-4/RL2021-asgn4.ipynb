{
 "cells": [
  {
   "cell_type": "markdown",
   "metadata": {},
   "source": [
    "<h1 style=\"color:#333333; text-align:center; line-height: 0;\">Reinforcement Learning | Assignment 4</h1>\n",
    "\n",
    "<br/><br/>\n",
    "\n",
    "The last assignment is devoted to the deep Critic, MPC and RQL in application to the wheeled robot control in the presence of a disturbance.\n",
    "\n",
    "# Intro\n",
    "\n",
    "In this assignment we will use the following disturbance model:\n",
    "\n",
    "$\\mathrm d Q_t = - \\frac{1}{\\tau_{disturb}} \\left( Q_t \\mathrm d t + \\sigma_{disturb} ( \\mathrm d B_t + \\mu_{disturb}) \\right)$, where\n",
    "\n",
    "$\\tau_{disturb}$ is the time constant, $\\sigma_{disturb}$ is the standard deviation, and $\\mu_{disturb}$ is the mean.\n",
    "\n",
    "Please, familiarize yourself with the Euler-Maruyama method (https://en.wikipedia.org/wiki/Euler–Maruyama_method), which is an extension of the Euler method to the stochastic case.\n",
    "\n",
    "# Pseudocode\n",
    "\n",
    "Сritic cost pseudocode:\n",
    "\n",
    "\n",
    "`Jc = 0`\n",
    "\n",
    "`for k in range(self.Ncritic-1, 0, -1):\n",
    "    ...\n",
    "    critic_prev = critic(observation_prev, action_prev, w_critic)\n",
    "    critic_next = critic(observation_next, action_next, w_critic_prev)\n",
    "    e = critic_prev - self.gamma * critic_next - self.stage_obj(observation_prev, action_prev)\n",
    "    Jc += 1/2 * e^2\n",
    "return Jc`\n",
    "\n",
    "\n",
    "# Setup and problem formulation\n",
    "\n",
    "In contrast to the previous assignments, this one is supposed to be done in .py files of `rcognita` - a framework for robot control, that is under development in the laboratory. So, if this assignment is on your local machine, please execute the following terminal commands:\n",
    "\n",
    "* `git submodule init`\n",
    "* `git submodule update`\n",
    "\n",
    "Examine the files and folders structure. The `presets` folder consists of the main files, containing high-level experiment descriptions. The ones that are of our interest are moved to the root folder: `main_3wrobot_NI_edu1.py`, `main_3wrobot_NI_edu2.py`, `main_3wrobot_NI_edu3.py`. For convinience the code snippet class (`CtrlOptPredRL`) that is supposed to be complemented is in the same file on the line.\n",
    "\n",
    "This time the results of the code execution are saved in .csv files in `simdata` folder in `rcognita`. Please upload three log files al far as three scripts via https://forms.gle/W1afcQq5QWJWEeDs8.\n",
    "\n",
    "The task is to complete the following code snippets in `CtrlOptPredRL` class (in three aforementioned files respectively):\n",
    "* Problem 4.1 - NN critic, critic cost (10 points)\n",
    "\n",
    "In `main_3wrobot_NI_edu1.py` replace a default critic with a NN in `_critic` (which is pretty much alike to the similar task in asgn3). Implement `_critic_cost`, following the pseudocode above.\n",
    "\n",
    "* Problem 4.2 - system output prediction in MPC (10 points)\n",
    "\n",
    "Implement system output prediction (in case `if not self.is_est_model`) with the help of the Euler-Maruyama method in `_actor_cost` for MPC. You are supposed to modify the current version of output prediction, including wrapping it in a loop to calculate mean and introducing stochastic part in the Euler method.\n",
    "\n",
    "* Problem 4.3 - RQL (10 points)\n",
    "\n",
    "Copy `critic_cost` from the first problem into the third snippet and supplement the `RQL` with the Euler-Maruyama system output prediction."
   ]
  },
  {
   "cell_type": "code",
   "execution_count": null,
   "metadata": {},
   "outputs": [],
   "source": []
  }
 ],
 "metadata": {
  "kernelspec": {
   "display_name": "Python 3",
   "language": "python",
   "name": "python3"
  },
  "language_info": {
   "codemirror_mode": {
    "name": "ipython",
    "version": 3
   },
   "file_extension": ".py",
   "mimetype": "text/x-python",
   "name": "python",
   "nbconvert_exporter": "python",
   "pygments_lexer": "ipython3",
   "version": "3.9.6"
  }
 },
 "nbformat": 4,
 "nbformat_minor": 4
}
